{
 "cells": [
  {
   "cell_type": "markdown",
   "id": "07868ef5-3374-4521-882d-0ec45ffb4df3",
   "metadata": {},
   "source": [
    "1. Write a function called greet that takes a name as a parameter and returns \"Hello, [name]!"
   ]
  },
  {
   "cell_type": "code",
   "execution_count": 19,
   "id": "7643efb5-387d-4a93-9ae8-ccec38c75fbf",
   "metadata": {},
   "outputs": [
    {
     "name": "stdout",
     "output_type": "stream",
     "text": [
      "Hello, Dafe!\n"
     ]
    }
   ],
   "source": [
    "def greet(name):\n",
    "    result= \"Hello, \"+ name +\"!\"\n",
    "    print(result)\n",
    "\n",
    "greet(\"Dafe\")\n",
    "\n"
   ]
  },
  {
   "cell_type": "markdown",
   "id": "5b46d7ec-769f-4f5c-88d6-304c238b6349",
   "metadata": {},
   "source": [
    "2. Create a function calculate_area that takes length and width as parameters and returns the area of a rectangle."
   ]
  },
  {
   "cell_type": "code",
   "execution_count": 23,
   "id": "1fdbef80-5d8a-4b69-a34f-c9eb3e179f58",
   "metadata": {},
   "outputs": [
    {
     "name": "stdout",
     "output_type": "stream",
     "text": [
      "The area is 1250 squaremeters\n"
     ]
    }
   ],
   "source": [
    "def calculate_area(l,w):\n",
    "    \"\"\"Takes two numbers l and w to calculate the area of a rectangle\"\"\"\n",
    "    area=l*w\n",
    "    print(f\"The area is {area} squaremeters\")\n",
    "calculate_area(50,25)"
   ]
  },
  {
   "cell_type": "markdown",
   "id": "02c5a0ff-11b5-49dc-abb1-79fdcd24803b",
   "metadata": {},
   "source": [
    "3. Define a function is_even that takes a number and returns True if it's even, False if it's odd."
   ]
  },
  {
   "cell_type": "code",
   "execution_count": 29,
   "id": "6993e9e1-ace0-4963-ae01-f813e7e1ba42",
   "metadata": {},
   "outputs": [
    {
     "name": "stdout",
     "output_type": "stream",
     "text": [
      "206 is an even number\n"
     ]
    }
   ],
   "source": [
    "def is_even(a):\n",
    "    \"\"\"Takes a number to determine if it's even or odd\"\"\"\n",
    "    if a%2==0:\n",
    "        print(f\"{a} is an even number\")\n",
    "    else:\n",
    "        print(f\"{a} is an odd number\")\n",
    "is_even(206)"
   ]
  },
  {
   "cell_type": "markdown",
   "id": "82a4d31e-d182-41b9-974a-157d4b944702",
   "metadata": {},
   "source": [
    "4. Write a function get_max that takes two numbers and returns the larger one."
   ]
  },
  {
   "cell_type": "code",
   "execution_count": 31,
   "id": "7a81d076-375f-4617-89a3-3d2bcb66a64e",
   "metadata": {},
   "outputs": [
    {
     "name": "stdout",
     "output_type": "stream",
     "text": [
      "The larger number is 1089\n"
     ]
    }
   ],
   "source": [
    "def get_max(a,b):\n",
    "    if a>b:\n",
    "        print(f\"The larger number is {a}\")\n",
    "    else:\n",
    "        print(f\"The larger number is {b}\")\n",
    "get_max(201,1089)\n"
   ]
  },
  {
   "cell_type": "markdown",
   "id": "caa321b4-38f6-4544-8a14-7850717a5d6b",
   "metadata": {},
   "source": [
    "5. Create a function celsius_to_fahrenheit that converts Celsius to Fahrenheit using the formula: F = (C × 9/5) + 32"
   ]
  },
  {
   "cell_type": "code",
   "execution_count": 32,
   "id": "4aac3523-4e1a-4ab8-8b76-bb03a108d282",
   "metadata": {},
   "outputs": [
    {
     "name": "stdout",
     "output_type": "stream",
     "text": [
      "The equivalent temp in Fahrenheit is 95.0F\n"
     ]
    }
   ],
   "source": [
    "def celsius_to_fahrenheit(c):\n",
    "    \"\"\"Takes a temperature in celsius and coverts to fahrenheit\"\"\"\n",
    "    fahrenheit=(c*9/5)+32\n",
    "    print(f\"The equivalent temp in Fahrenheit is {fahrenheit}F\")\n",
    "celsius_to_fahrenheit(35)"
   ]
  },
  {
   "cell_type": "markdown",
   "id": "8e4bc53c-b19a-4554-8132-9f36e2322624",
   "metadata": {},
   "source": [
    "6. Write a function introduce that takes a name and an optional age parameter (default value 25). It should return \"Hi, I'm [name] and I'm [age] years old.\""
   ]
  },
  {
   "cell_type": "code",
   "execution_count": 35,
   "id": "980ac78f-999d-48fa-9549-054fa0a9693d",
   "metadata": {},
   "outputs": [
    {
     "name": "stdout",
     "output_type": "stream",
     "text": [
      "Hi, I'm Jude and I'm 25 years old.\n"
     ]
    }
   ],
   "source": [
    "def person_info(name,age=25):\n",
    "    \"\"\"Takes name as string and age an int\"\"\"\n",
    "    print(f\"Hi, I'm {name} and I'm {age} years old.\")\n",
    "\n",
    "person_info(\"Jude\")"
   ]
  },
  {
   "cell_type": "markdown",
   "id": "23a71442-8e87-46ef-9de1-e74d195d3c58",
   "metadata": {},
   "source": [
    "7. Create a function calculate_discount that takes a price and discount percentage (default 10%) and returns the discounted price.\n"
   ]
  },
  {
   "cell_type": "code",
   "execution_count": 41,
   "id": "253a0ee5-3900-494c-aadc-92d7ef64045a",
   "metadata": {},
   "outputs": [
    {
     "name": "stdout",
     "output_type": "stream",
     "text": [
      "The discounted price is $450.0\n"
     ]
    }
   ],
   "source": [
    "def calculate_discount(price,discount=10):\n",
    "    discounted_price=price-(price*discount/100)\n",
    "    print(f\"The discounted price is ${discounted_price}\")\n",
    "calculate_discount(500)"
   ]
  },
  {
   "cell_type": "markdown",
   "id": "8043abe2-4461-4c9c-adaa-327a289c2feb",
   "metadata": {},
   "source": [
    "8. Define a function create_email that takes a first name, last name, and optional domain (default \"gmail.com\") to create an email address."
   ]
  },
  {
   "cell_type": "code",
   "execution_count": 51,
   "id": "7d7a5c3c-c18f-401c-8cfb-3d17be4d2aff",
   "metadata": {},
   "outputs": [
    {
     "name": "stdout",
     "output_type": "stream",
     "text": [
      "dafeakpobasah@gmail.com\n"
     ]
    }
   ],
   "source": [
    "def create_email(first,last,domain=\"gmail\"):\n",
    "    \"\"\"The parameters takes string arguments\"\"\"\n",
    "    print(first+last+\"@\"+domain+\".com\")\n",
    "create_email(\"dafe\",\"akpobasah\")"
   ]
  },
  {
   "cell_type": "markdown",
   "id": "c7df9203-e79c-4d38-8f66-c7327cb831d1",
   "metadata": {},
   "source": [
    "9. Create a function count_vowels that takes a string and returns the number of vowels in it.\n"
   ]
  },
  {
   "cell_type": "code",
   "execution_count": 57,
   "id": "547b1034-9bb3-4190-ac5e-260448e685db",
   "metadata": {},
   "outputs": [
    {
     "name": "stdout",
     "output_type": "stream",
     "text": [
      "The number of vowels in 'This is a test subject' is 6\n"
     ]
    }
   ],
   "source": [
    "def count_vowels(string):\n",
    "    myvowel_list=[]\n",
    "    for letter in string:\n",
    "        if letter in \"aeiou\":\n",
    "            myvowel_list.append(letter)\n",
    "        else:\n",
    "            continue\n",
    "    print(f\"The number of vowels in '{string}' is {len(myvowel_list)}\")\n",
    "count_vowels(\"This is a test subject\")"
   ]
  },
  {
   "cell_type": "markdown",
   "id": "2d919deb-422b-4265-935e-c0e3d27a5ad6",
   "metadata": {},
   "source": [
    "10. Define a function find_longest_word that takes a list of words and returns the longest one."
   ]
  },
  {
   "cell_type": "code",
   "execution_count": 120,
   "id": "c533fd31-f6e7-4304-a195-b66a6446fc4b",
   "metadata": {},
   "outputs": [
    {
     "name": "stdout",
     "output_type": "stream",
     "text": [
      "togethere\n"
     ]
    }
   ],
   "source": [
    "def find_longest_word(list_words):\n",
    "    longest=max(list_words, key=len)\n",
    "    print(longest)\n",
    "find_longest_word([\"together\",\"something\",\"hey\",\"today\"])"
   ]
  },
  {
   "cell_type": "markdown",
   "id": "39cbe844-a1ba-45c7-933f-14f46ea4f347",
   "metadata": {},
   "source": [
    "11. Write a function grade_calculator that takes a score (0-100) and returns the letter grade (A, B, C, D,E, F)"
   ]
  },
  {
   "cell_type": "code",
   "execution_count": 64,
   "id": "1b526d64-4712-47c0-af87-724cb98d8d87",
   "metadata": {},
   "outputs": [
    {
     "name": "stdout",
     "output_type": "stream",
     "text": [
      "A\n"
     ]
    }
   ],
   "source": [
    "def grade_calculator(exam_score):\n",
    "    if exam_score>100 or exam_score<0:\n",
    "        print(\"INVALID EXAM SCORE! INPUT A SCORE BTW 0-100\")\n",
    "    elif exam_score>=70:\n",
    "        print(\"A\")\n",
    "    elif exam_score>=60:\n",
    "        print(\"B\")\n",
    "    elif exam_score>=50:\n",
    "        print(\"C\")\n",
    "    elif exam_score>=45:\n",
    "        print(\"D\")\n",
    "    elif exam_score>=40:\n",
    "        print(\"E\")\n",
    "    else:\n",
    "        print(\"F\")\n",
    "grade_calculator(85)"
   ]
  },
  {
   "cell_type": "markdown",
   "id": "cf2cd792-cd32-43c2-9317-522da51f72af",
   "metadata": {},
   "source": [
    "12. Write a function file_extension that extracts the file extension from a filename, handling cases where there might be no extension."
   ]
  },
  {
   "cell_type": "code",
   "execution_count": 68,
   "id": "9a0ade87-003a-4b9a-872a-8428eec6fd0c",
   "metadata": {},
   "outputs": [
    {
     "name": "stdout",
     "output_type": "stream",
     "text": [
      "pdf\n"
     ]
    }
   ],
   "source": [
    "def file_extension(filename):\n",
    "    if \".\" in filename:\n",
    "        extension=filename.split(\".\")\n",
    "        print(extension[1])\n",
    "    else:\n",
    "        print(\"None\")\n",
    "file_extension(\"word.pdf\")"
   ]
  },
  {
   "cell_type": "markdown",
   "id": "4613d883-687b-4c92-9e61-59ef2664b6ca",
   "metadata": {},
   "source": [
    "13. Write a function safe_get_item that tries to access a list item by index and returns None if the index is out of bounds."
   ]
  },
  {
   "cell_type": "code",
   "execution_count": 77,
   "id": "7e1b5070-9327-4c83-87bc-2b9ec4383767",
   "metadata": {},
   "outputs": [
    {
     "name": "stdout",
     "output_type": "stream",
     "text": [
      "None\n"
     ]
    }
   ],
   "source": [
    "def safe_get_item(index):\n",
    "    my_list=[\"coffee\",\"tea\",\"testing\",\"wine\",\"glass\"]\n",
    "    if index<len(my_list):\n",
    "        print(my_list[index])\n",
    "    else:\n",
    "        print(\"None\")\n",
    "safe_get_item(5)"
   ]
  },
  {
   "cell_type": "markdown",
   "id": "56a47390-08b6-45da-ba95-e685ba5c9187",
   "metadata": {},
   "source": [
    "14. Create a function clean_data that takes a list of mixed data types and returns only the numeric values as a new list."
   ]
  },
  {
   "cell_type": "code",
   "execution_count": 108,
   "id": "2f2aa6f3-4b32-4778-a6ac-5771db04f221",
   "metadata": {},
   "outputs": [
    {
     "name": "stdout",
     "output_type": "stream",
     "text": [
      "[3, 13, 28]\n"
     ]
    }
   ],
   "source": [
    "def clean_data(data_list):\n",
    "    numeric=[]\n",
    "    for data in data_list:\n",
    "        if isinstance(data,(int,float)) and not isinstance(data,bool):\n",
    "            numeric.append(data)\n",
    "        else:\n",
    "            continue\n",
    "    print(numeric)\n",
    "\n",
    "clean_data([\"buyer\",3,\"victim\",13,28])\n",
    "            \n",
    "    "
   ]
  },
  {
   "cell_type": "markdown",
   "id": "48c45189-81dd-4585-af1e-05a02d6d56c9",
   "metadata": {},
   "source": [
    "15. Write a function analyze_grades that takes a dictionary of student names and their scores lists, returning statistics (average, highest, lowest) for each student."
   ]
  }
 ],
 "metadata": {
  "kernelspec": {
   "display_name": "Python 3 (ipykernel)",
   "language": "python",
   "name": "python3"
  },
  "language_info": {
   "codemirror_mode": {
    "name": "ipython",
    "version": 3
   },
   "file_extension": ".py",
   "mimetype": "text/x-python",
   "name": "python",
   "nbconvert_exporter": "python",
   "pygments_lexer": "ipython3",
   "version": "3.12.7"
  }
 },
 "nbformat": 4,
 "nbformat_minor": 5
}
