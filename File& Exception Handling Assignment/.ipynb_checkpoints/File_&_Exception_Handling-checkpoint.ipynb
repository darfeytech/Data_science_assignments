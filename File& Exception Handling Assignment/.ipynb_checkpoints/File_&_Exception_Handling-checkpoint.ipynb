{
 "cells": [
  {
   "cell_type": "markdown",
   "id": "072a0706-1979-4add-8a80-6c476cf37d79",
   "metadata": {},
   "source": [
    "1. Build a grade management system that reads student grades from a text file and generates a report.\n",
    "Input File Format (grades.txt):\n",
    "Name,Math,English,Science\n",
    "* Alice,85,92,78\n",
    "* Bob,78,85,90\n",
    "* Charlie,92,88,85\n",
    "* Requirements:\n",
    "* Calculate average grade for each student\n",
    "* Find class averages for each subject\n",
    "* Write results to grade_report.txt"
   ]
  },
  {
   "cell_type": "code",
   "execution_count": 6,
   "id": "144b6489-d032-4aba-9419-b1db93b00c07",
   "metadata": {},
   "outputs": [],
   "source": [
    "grades=open(\"grades.txt\",\"w\")#opening the file and it's content using python\n",
    "grades.write(\"\"\"Name,Math,English,Science\n",
    "Alice,85,92,78\n",
    "Bob,78,85,90\n",
    "Charlie,92,88,85\n",
    "\"\"\")\n",
    "grades.close()\n"
   ]
  },
  {
   "cell_type": "code",
   "execution_count": 68,
   "id": "8394d6aa-b59e-4e39-a8bc-59ae27a89b0f",
   "metadata": {},
   "outputs": [],
   "source": [
    "grades_report=open(\"grades_report.txt\",\"w\")\n",
    "grades_report.write(\"\"\"Student,Average Grade\n",
    "\"\"\")\n",
    "grades=open(\"grades.txt\",\"r\")\n",
    "math_score=[]\n",
    "english_score=[]\n",
    "science_score=[]\n",
    "for student in (grades.readlines())[1:]:\n",
    "    student_score_lists=student.strip().split(\",\")\n",
    "    score_lists=[]\n",
    "    for score in student_score_lists[1:]:\n",
    "        score_lists.append(int(score))\n",
    "    average=sum(score_lists)/len(score_lists)\n",
    "    grades_report.write(f\"\"\"{student_score_lists[0]},{round(average,2)}\\n\"\"\")\n",
    "    for i in range(len(score_lists)+1):\n",
    "        if i==1:\n",
    "            math_score.append(int(student_score_lists[1]))\n",
    "        elif i==2:\n",
    "            english_score.append(int(student_score_lists[2]))\n",
    "        elif i==3:\n",
    "            science_score.append(int(student_score_lists[3])) \n",
    "math_average=sum(math_score)/len(math_score)\n",
    "english_average=sum(english_score)/len(english_score)\n",
    "science_average=sum(science_score)/len(science_score)\n",
    "grades_report.write(f\"\"\"Classaverage, Math = {round(math_average,2)}, English = {round(english_average,2)}, Science = {round(science_average,2)}\n",
    "    \"\"\")\n",
    "grades_report.close()\n"
   ]
  },
  {
   "cell_type": "markdown",
   "id": "cdf9b718-d2b5-4025-8804-38be852cfc0c",
   "metadata": {},
   "source": [
    "2. Ask the user for 5 numbers, save them to numbers.txt (one per line), then read them back and calculate their sum.\n",
    "* Requirements:\n",
    "* Handle invalid number input from user\n",
    "* Use proper file handling\n",
    "* Display the sum to the user\n"
   ]
  },
  {
   "cell_type": "code",
   "execution_count": 8,
   "id": "fff78e88-e94b-42cf-8c4c-6dc28691053c",
   "metadata": {},
   "outputs": [
    {
     "name": "stdin",
     "output_type": "stream",
     "text": [
      "Enter number #1:  25\n",
      "Enter number #2:  45f\n"
     ]
    },
    {
     "name": "stdout",
     "output_type": "stream",
     "text": [
      "Invalid input. Please enter a number.\n"
     ]
    },
    {
     "name": "stdin",
     "output_type": "stream",
     "text": [
      "Enter number #2:  45\n",
      "Enter number #3:  20\n",
      "Enter number #4:  48\n",
      "Enter number #5:  55\n"
     ]
    },
    {
     "name": "stdout",
     "output_type": "stream",
     "text": [
      "Number entered = [25.0, 45.0, 20.0, 48.0, 55.0]\n",
      "Total sum of numbers entered = 193.0\n"
     ]
    }
   ],
   "source": [
    "numbers= open(\"numbers.txt\",\"w\")\n",
    "for i in range(5):\n",
    "    while True:\n",
    "        user_input = input(f\"Enter number #{i+1}: \")\n",
    "        try:\n",
    "            valid_number = float(user_input)\n",
    "        except ValueError:\n",
    "            print(\"Invalid input. Please enter a number.\")\n",
    "        else:\n",
    "            numbers.write(f\"{valid_number}\\n\")\n",
    "            break\n",
    "numbers.close()\n",
    "numbers=open(\"numbers.txt\",\"r\")\n",
    "numbers_strip=[]\n",
    "for number in numbers.readlines():\n",
    "    numbers_strip.append(float(number.strip()))\n",
    "print(f\"Number entered = {numbers_strip}\")\n",
    "print(f\"Total sum of numbers entered = {sum(numbers_strip)}\")\n"
   ]
  },
  {
   "cell_type": "markdown",
   "id": "e893de55-1e7c-407a-960f-4ab3988dec8f",
   "metadata": {},
   "source": [
    "3. Exercise 144: Number the Lines in a File\n",
    "* Create a program that adds line numbers to a file. The name of the input file will be\n",
    "* read from the user, as will the name of the new file that your program will create.\n",
    "* Each line in the output file should begin with the line number, followed by a colon\n",
    "and a space, followed by the line from the input file.\n"
   ]
  },
  {
   "cell_type": "code",
   "execution_count": 1,
   "id": "2829652f-cbfd-4970-80ed-6bc95dffd7c1",
   "metadata": {},
   "outputs": [],
   "source": [
    "def file_numbering():\n",
    "    input_file=input(\"Enter an Input file name(txt file only): \")\n",
    "    while True: #To check if file exist in that location\n",
    "        try:\n",
    "            file_handler=open((input_file+\".txt\"),\"r\")\n",
    "        except Exception as e:#if files not found in the folder\n",
    "            print(\"something went wrong\",e)\n",
    "            break\n",
    "        else:\n",
    "            output_file=input(\"Enter a file name to export your result: \")\n",
    "            def file_numbers():\n",
    "                lines=file_handler.readlines()#for each element in the input list\n",
    "                file_handler2=open((output_file+\".txt\"),\"w\")#To open the created/existing output file\n",
    "                for i in range(1,len(lines)+1):\n",
    "                    file_handler2.write(f\"{i}:{lines[i-1]}\")\n",
    "                print(f\"Your Output File {output_file}.txt is Ready!!!\")\n",
    "                file_handler2.close()\n",
    "            while True: #To check if file exist in that location\n",
    "                try:\n",
    "                    file_handler2=open((output_file+\".txt\"),\"r\")\n",
    "                    file_numbers()\n",
    "                    break\n",
    "                except Exception as e:#if files not found in the folder\n",
    "                    print(\"something went wrong\",e)\n",
    "                    response=input(\"\"\"Do you want to create a new file for this output? \n",
    "                    (Type in Yes or No)\"\"\").lower().strip()#Asking to create a new ouput file or not\n",
    "                    if response==\"yes\":\n",
    "                        file_handler2=open((output_file+\".txt\"),\"w\")\n",
    "                        print(f\"File '{output_file}.txt' created\")\n",
    "                        file_numbers()\n",
    "                        break\n",
    "                    else:\n",
    "                        print(\"I can't continue with this operation without an output file\")\n",
    "                        break\n",
    "                \n",
    "            break\n"
   ]
  },
  {
   "cell_type": "code",
   "execution_count": 2,
   "id": "b651bad8-388e-452a-b802-6c4409ab7a2e",
   "metadata": {},
   "outputs": [
    {
     "name": "stdin",
     "output_type": "stream",
     "text": [
      "Enter an Input file name(txt file only):  excercise144\n",
      "Enter a file name to export your result:  testing1\n"
     ]
    },
    {
     "name": "stdout",
     "output_type": "stream",
     "text": [
      "something went wrong [Errno 2] No such file or directory: 'testing1.txt'\n"
     ]
    },
    {
     "name": "stdin",
     "output_type": "stream",
     "text": [
      "Do you want to create a new file for this output? \n",
      "                    (Type in Yes or No) yes\n"
     ]
    },
    {
     "name": "stdout",
     "output_type": "stream",
     "text": [
      "File 'testing1.txt' created\n",
      "Your Output File testing1.txt is Ready!!!\n"
     ]
    }
   ],
   "source": [
    "file_numbering()"
   ]
  },
  {
   "cell_type": "markdown",
   "id": "c2aee4b3-0522-4d22-a626-ace44453ef01",
   "metadata": {},
   "source": [
    "Exercise 145: Find the Longest Word in a File\n",
    "In this exercise you will create a Python program that identifies the longest word(s)\n",
    "in a file. Your program should output an appropriate message that includes the length\n",
    "of the longest word, along with all of the words of that length that occurred in the\n",
    "file. Treat any group of non-white space characters as a word, even if it includes\n",
    "numbers or punctuation marks."
   ]
  },
  {
   "cell_type": "code",
   "execution_count": 1,
   "id": "38fa60fa-050f-4102-836b-8c2f9f8d778d",
   "metadata": {},
   "outputs": [],
   "source": [
    "def file_longest_word():\n",
    "    input_file=input(\"Enter an Input file name(txt file only): \")\n",
    "    while True:\n",
    "        try:\n",
    "            words_file=open((input_file+\".txt\"),\"r\")\n",
    "        except Exception as e:#files not found in the folder\n",
    "            print(\"something went wrong\",e)\n",
    "            break\n",
    "        else:\n",
    "            words_list=[]\n",
    "            for lines in words_file.readlines():#turning each lines into its own list\n",
    "                line=lines.split(\" \")\n",
    "                for word in line:    #putting all words in the file in to a single list in order to get the max word\n",
    "                    words_list.append(word)\n",
    "            longest_word=words_list[0]\n",
    "            longest_words=[words_list[0]]\n",
    "            for element in words_list[1:]:\n",
    "                element_strip=element.strip()#removing existing white spaces on the words\n",
    "                if len(element_strip)>len(longest_word):\n",
    "                    longest_word=element_strip\n",
    "                    longest_words.clear()\n",
    "                    longest_words.append(element_strip)\n",
    "                elif len(element_strip)==len(longest_word): \n",
    "                    longest_words.append(element_strip)\n",
    "            print(f\"The longest word(s) in this file '{input_file}.txt' is {longest_words}\")\n",
    "            break\n",
    "\n"
   ]
  },
  {
   "cell_type": "code",
   "execution_count": 9,
   "id": "aab650aa-61ac-448a-98ff-4ffe216bcc25",
   "metadata": {},
   "outputs": [
    {
     "name": "stdin",
     "output_type": "stream",
     "text": [
      "Enter an Input file name(txt file only):  output144_file\n"
     ]
    },
    {
     "name": "stdout",
     "output_type": "stream",
     "text": [
      "The longest word(s) in this file 'output144_file.txt' is ['displacement', 'acceleration']\n"
     ]
    }
   ],
   "source": [
    "file_longest_word()"
   ]
  },
  {
   "cell_type": "code",
   "execution_count": null,
   "id": "65ea6522-cc6d-4bef-86e7-f89ccd8a8e37",
   "metadata": {},
   "outputs": [],
   "source": []
  }
 ],
 "metadata": {
  "kernelspec": {
   "display_name": "Python 3 (ipykernel)",
   "language": "python",
   "name": "python3"
  },
  "language_info": {
   "codemirror_mode": {
    "name": "ipython",
    "version": 3
   },
   "file_extension": ".py",
   "mimetype": "text/x-python",
   "name": "python",
   "nbconvert_exporter": "python",
   "pygments_lexer": "ipython3",
   "version": "3.12.7"
  }
 },
 "nbformat": 4,
 "nbformat_minor": 5
}
