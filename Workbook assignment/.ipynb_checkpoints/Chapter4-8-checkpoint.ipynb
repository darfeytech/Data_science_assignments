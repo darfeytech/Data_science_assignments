{
 "cells": [
  {
   "cell_type": "markdown",
   "id": "4e15d89c-b141-43e0-be7c-2403ec556da1",
   "metadata": {},
   "source": [
    "## Exercise 4: AREA OF A FIELD"
   ]
  },
  {
   "cell_type": "code",
   "execution_count": 23,
   "id": "b56604af-2b64-4bd6-960c-7210660f2523",
   "metadata": {},
   "outputs": [
    {
     "name": "stdin",
     "output_type": "stream",
     "text": [
      "the lenghth in ft: 5000\n",
      "the width in ft: 750.5\n"
     ]
    },
    {
     "name": "stdout",
     "output_type": "stream",
     "text": [
      "The area of the field in acres is 86.146acres\n"
     ]
    }
   ],
   "source": [
    "length=float(input(\"the lenghth in ft:\"))\n",
    "width=float(input(\"the width in ft:\"))\n",
    "area=round(((length*width)/43560),3)\n",
    "print(f\"The area of the field in acres is {area}acres\")\n"
   ]
  },
  {
   "cell_type": "markdown",
   "id": "420b62a5-6314-4dc2-b990-73064faff79f",
   "metadata": {},
   "source": [
    "\n",
    "## Exercise 5: BOTTLE DEPOSIT\n"
   ]
  },
  {
   "cell_type": "code",
   "execution_count": 22,
   "id": "f057ce44-3c63-426b-8122-c77dff991d71",
   "metadata": {},
   "outputs": [
    {
     "name": "stdout",
     "output_type": "stream",
     "text": [
      "NOTE: DEPOSIT A SPECIFIC SIZE OF CONTAINER FOR A SINGLE RECYCLING TRANSACTION IF YOU HAVE DIFFERENT CONTAINER SIZES\n"
     ]
    },
    {
     "name": "stdin",
     "output_type": "stream",
     "text": [
      "What is the size of your container in Liters: 2\n",
      "How many containers do you want to deposit: 45\n"
     ]
    },
    {
     "name": "stdout",
     "output_type": "stream",
     "text": [
      "Your Recycle Refund Amount is: $11.25\n"
     ]
    }
   ],
   "source": [
    "print(\"NOTE: DEPOSIT A SPECIFIC SIZE OF CONTAINER FOR A SINGLE RECYCLING TRANSACTION IF YOU HAVE DIFFERENT CONTAINER SIZES\")\n",
    "container_size=float(input(\"What is the size of your container in Liters:\"))\n",
    "container_number=float(input(\"How many containers do you want to deposit:\"))\n",
    "if container_size<=1:\n",
    "    refund=round((container_number*0.10),2)\n",
    "else:\n",
    "    refund=round((container_number*0.25),2)\n",
    "print(f\"Your Recycle Refund Amount is: ${refund}\")"
   ]
  },
  {
   "cell_type": "markdown",
   "id": "ab6e7c4a-f6b3-4e7b-9865-82765ebc97fc",
   "metadata": {},
   "source": [
    "\n",
    "## Exercise 6: TAX & TIP"
   ]
  },
  {
   "cell_type": "code",
   "execution_count": 30,
   "id": "bc96a27c-0bf9-4ff1-861a-2d69e2e09ed3",
   "metadata": {},
   "outputs": [
    {
     "name": "stdin",
     "output_type": "stream",
     "text": [
      "Meal cost = # 15550\n"
     ]
    },
    {
     "name": "stdout",
     "output_type": "stream",
     "text": [
      "Vat = # 1166.25\n",
      "Tip amount = # 2799.0\n",
      "Total amount = # 19515.25\n"
     ]
    }
   ],
   "source": [
    "meal_cost=float(input(\"Meal cost = #\"))\n",
    "value_added_tax=round((meal_cost*0.075),2)#vat used is 7.5%\n",
    "print(f\"Vat = # {value_added_tax}\")\n",
    "tip=round((meal_cost*0.18),2)\n",
    "print(f\"Tip amount = # {tip}\")\n",
    "total_cost=meal_cost+value_added_tax+tip\n",
    "print(f\"Total amount = # {total_cost}\")"
   ]
  },
  {
   "cell_type": "markdown",
   "id": "79df0c4e-a126-44d9-b4a6-7ae5467ccc8d",
   "metadata": {},
   "source": [
    "\n",
    "## Excercise 7: SUM OF THE FIRST n POSITIVE INTEGERS"
   ]
  },
  {
   "cell_type": "code",
   "execution_count": 8,
   "id": "2ff4fcaa-0e3e-488d-ad55-7f24a19d0ddd",
   "metadata": {},
   "outputs": [
    {
     "name": "stdin",
     "output_type": "stream",
     "text": [
      "Input a positive integer of n: 100\n"
     ]
    },
    {
     "name": "stdout",
     "output_type": "stream",
     "text": [
      "The sum of the intergers = 5050.0\n"
     ]
    }
   ],
   "source": [
    "n=int(input(\"Input a positive integer of n:\"))\n",
    "if n>0:\n",
    "    sum_integers=n*(n+1)/2\n",
    "    print(f\"The sum of the intergers = {sum_integers}\")\n",
    "else:\n",
    "    print(\"INPUT A POSITIVE INTEGER\")\n",
    "\n",
    "    "
   ]
  },
  {
   "cell_type": "markdown",
   "id": "b4704a09-c7f0-49c0-b488-c6b50f41b232",
   "metadata": {},
   "source": [
    "\n",
    "## Exercise 8: Widgets and Gizmos"
   ]
  },
  {
   "cell_type": "code",
   "execution_count": 43,
   "id": "61555afc-2cd9-4e7b-b5cc-4223d57a41ce",
   "metadata": {},
   "outputs": [
    {
     "name": "stdin",
     "output_type": "stream",
     "text": [
      "No. of widget needed = 85\n",
      "No. of gizmos needed = 100\n"
     ]
    },
    {
     "name": "stdout",
     "output_type": "stream",
     "text": [
      "The total weight of the order = 17575grams\n"
     ]
    }
   ],
   "source": [
    "widget_order= int(input(\"No. of widget needed =\"))\n",
    "gizmos_order= int(input(\"No. of gizmos needed =\"))\n",
    "widget_weight=widget_order*75\n",
    "gizmos_weight=gizmos_order*112\n",
    "total_weight=widget_weight+gizmos_weight\n",
    "print(f\"The total weight of the order = {total_weight}grams\")"
   ]
  }
 ],
 "metadata": {
  "kernelspec": {
   "display_name": "Python 3 (ipykernel)",
   "language": "python",
   "name": "python3"
  },
  "language_info": {
   "codemirror_mode": {
    "name": "ipython",
    "version": 3
   },
   "file_extension": ".py",
   "mimetype": "text/x-python",
   "name": "python",
   "nbconvert_exporter": "python",
   "pygments_lexer": "ipython3",
   "version": "3.12.7"
  }
 },
 "nbformat": 4,
 "nbformat_minor": 5
}
