{
 "cells": [
  {
   "cell_type": "markdown",
   "id": "a9ba7b30-d282-4688-a2cb-a3e8be36473d",
   "metadata": {},
   "source": [
    "### \n",
    "1. Write a program that takes a number as input and prints whether it's positive, negative, or zero.\n"
   ]
  },
  {
   "cell_type": "code",
   "execution_count": 14,
   "id": "a99238e4-49fd-4c9c-b06a-7adcbdc8589e",
   "metadata": {},
   "outputs": [
    {
     "name": "stdin",
     "output_type": "stream",
     "text": [
      "Input a number:  -0.89\n"
     ]
    },
    {
     "name": "stdout",
     "output_type": "stream",
     "text": [
      "Its Negative\n"
     ]
    }
   ],
   "source": [
    "number=float(input(\"Input a number: \"))\n",
    "if number > 0:\n",
    "    print(\"Its Positive\")\n",
    "elif number < 0:\n",
    "    print(\"Its Negative\")\n",
    "else:\n",
    "    print(\"Its Zero\")\n",
    "    "
   ]
  },
  {
   "cell_type": "markdown",
   "id": "373b8716-de3b-4582-9c1b-04d3fb41e649",
   "metadata": {},
   "source": [
    "2. Write a program that determines if a year entered by the user is a leap year. (Hint: A leap year is divisible by 4, except for century years which must be divisible by 400)"
   ]
  },
  {
   "cell_type": "code",
   "execution_count": 67,
   "id": "57f5326b-f34f-4c17-87d4-3221f15bc14f",
   "metadata": {},
   "outputs": [
    {
     "name": "stdin",
     "output_type": "stream",
     "text": [
      "Input year:  4800\n"
     ]
    },
    {
     "name": "stdout",
     "output_type": "stream",
     "text": [
      "4800 is a leap year\n"
     ]
    }
   ],
   "source": [
    "year=int(input(\"Input year: \"))\n",
    "if year%100!=0 and year%4==0 or year%400==0:\n",
    "    print(f\"{year} is a leap year\")\n",
    "else:\n",
    "    print(f\"{year} is a not leap year\")"
   ]
  },
  {
   "cell_type": "markdown",
   "id": "31cbf683-f86a-435f-a5d5-656065b8e3a1",
   "metadata": {},
   "source": [
    "3. Create a program that compares two numbers and prints whether the first number is greater than, less than, or equal to the second number."
   ]
  },
  {
   "cell_type": "code",
   "execution_count": 31,
   "id": "db28f222-e746-485e-acd0-f09033fbdfcd",
   "metadata": {},
   "outputs": [
    {
     "name": "stdin",
     "output_type": "stream",
     "text": [
      "Input your first number:  10\n",
      "Input your second number:  10\n"
     ]
    },
    {
     "name": "stdout",
     "output_type": "stream",
     "text": [
      "First number '10.0' is equal to Second number '10.0'\n"
     ]
    }
   ],
   "source": [
    "number1= float(input(\"Input your first number: \"))\n",
    "number2= float(input(\"Input your second number: \"))\n",
    "if number1>number2:\n",
    "    print(f\"First number '{number1}' is greater than Second number '{number2}'\")\n",
    "elif number1<number2:\n",
    "    print(f\"First number '{number1}' is less than Second number '{number2}'\")\n",
    "else:\n",
    "    print(f\"First number '{number1}' is equal to Second number '{number2}'\")\n"
   ]
  },
  {
   "cell_type": "markdown",
   "id": "635d8389-9a64-4c32-841a-b48f3fccbb1b",
   "metadata": {},
   "source": [
    "4. Write a program that checks if a number is both greater than 10 and less than 100. If it’s , it should print “Great!!”, else print “Nah!!”"
   ]
  },
  {
   "cell_type": "code",
   "execution_count": 34,
   "id": "d46ca66b-4a24-46b8-be93-4aa06c90cfbd",
   "metadata": {},
   "outputs": [
    {
     "name": "stdin",
     "output_type": "stream",
     "text": [
      "Input your number:  105\n"
     ]
    },
    {
     "name": "stdout",
     "output_type": "stream",
     "text": [
      "Nah!!\n"
     ]
    }
   ],
   "source": [
    "number= float(input(\"Input your number: \"))\n",
    "if number>10 and number<100:\n",
    "    print(\"Great!!\")\n",
    "else:\n",
    "    print(\"Nah!!\")"
   ]
  },
  {
   "cell_type": "markdown",
   "id": "67eb3c67-2b58-4a9b-8050-823619653019",
   "metadata": {},
   "source": [
    "5. Create a simple calculator that takes two numbers and an operator (+, -, *, /) as input and performs the corresponding operation."
   ]
  },
  {
   "cell_type": "code",
   "execution_count": 73,
   "id": "30bd52b2-ae5d-4c96-b676-f381ba4fd106",
   "metadata": {},
   "outputs": [
    {
     "name": "stdin",
     "output_type": "stream",
     "text": [
      " 0.25\n",
      " +\n",
      " 1\n"
     ]
    },
    {
     "name": "stdout",
     "output_type": "stream",
     "text": [
      "Result is 1.25\n"
     ]
    }
   ],
   "source": [
    "number1=float(input())\n",
    "operator=input()\n",
    "number2=float(input())\n",
    "if operator==\"+\":\n",
    "    result=number1+number2\n",
    "elif operator==\"-\":\n",
    "    result=number1-number2\n",
    "elif operator==\"*\":\n",
    "    result=number1*number2\n",
    "else:\n",
    "    result=number1/number2\n",
    "print(f\"Result is {result}\")"
   ]
  },
  {
   "cell_type": "markdown",
   "id": "5b069447-9ad2-4171-9c4f-80628f2effbb",
   "metadata": {},
   "source": [
    "6. Write a program that categorizes a person by age: child (0-12), teenager (13-19), adult (20-64), or senior (65+)"
   ]
  },
  {
   "cell_type": "code",
   "execution_count": 81,
   "id": "bb47485f-2082-4ba4-badd-ce530b920b19",
   "metadata": {},
   "outputs": [
    {
     "name": "stdin",
     "output_type": "stream",
     "text": [
      "Input your age:  109\n"
     ]
    },
    {
     "name": "stdout",
     "output_type": "stream",
     "text": [
      "You're a senior\n"
     ]
    }
   ],
   "source": [
    "age=int(input(\"Input your age: \"))\n",
    "if age>= 65:\n",
    "    print(\"You're a senior\")\n",
    "elif age>=20:\n",
    "    print(\"You're an Adult\")\n",
    "elif age>=13:\n",
    "    print(\"You're a Teenager\")\n",
    "elif age>=0:\n",
    "    print(\"You're a Child\")\n",
    "else:\n",
    "    print(\"Input a valid age\")"
   ]
  },
  {
   "cell_type": "markdown",
   "id": "5de827ec-601b-4d79-ae23-db40756c1f4e",
   "metadata": {},
   "source": [
    "7. Create a program that determines if a triangle is equilateral (all sides equal), isosceles (two sides equal), or scalene (no sides equal) based on three side lengths."
   ]
  },
  {
   "cell_type": "code",
   "execution_count": 93,
   "id": "df18d15b-9711-4f74-b807-0f95967aa087",
   "metadata": {},
   "outputs": [
    {
     "name": "stdin",
     "output_type": "stream",
     "text": [
      "What is the length of side a:  12\n",
      "What is the length of side b:  13\n",
      "What is the length of side c:  14\n"
     ]
    },
    {
     "name": "stdout",
     "output_type": "stream",
     "text": [
      "The triangle is Scalene(no sides equal)\n"
     ]
    }
   ],
   "source": [
    "#for a triangle with three sides a, b, c\n",
    "length_a=float(input(\"What is the length of side a: \"))\n",
    "length_b=float(input(\"What is the length of side b: \"))\n",
    "length_c=float(input(\"What is the length of side c: \"))\n",
    "if length_a == length_b == length_c:\n",
    "    print(f\"The triangle is Equilateral(all sides equal)\")\n",
    "elif length_a == length_b or length_b == length_c or length_a==length_c:\n",
    "    print(f\"The triangle is Isosceles(two sides equal)\")\n",
    "else:\n",
    "    print(f\"The triangle is Scalene(no sides equal)\")\n",
    "    \n"
   ]
  },
  {
   "cell_type": "markdown",
   "id": "ff4dae5c-a511-46de-a34e-63082dcce5ad",
   "metadata": {},
   "source": [
    "8. Write a program that checks if two strings entered by the user are exactly equal (case-sensitive)."
   ]
  },
  {
   "cell_type": "code",
   "execution_count": 102,
   "id": "26fcf083-4534-48f2-86dd-dd7b8e4028ac",
   "metadata": {},
   "outputs": [
    {
     "name": "stdin",
     "output_type": "stream",
     "text": [
      "Input your surname name:  AKPOBASAH\n",
      "Input your name:  DAFE\n"
     ]
    },
    {
     "name": "stdout",
     "output_type": "stream",
     "text": [
      "Case sensitive equal\n"
     ]
    }
   ],
   "source": [
    "surname_name=input(\"Input your surname name: \")\n",
    "name=input(\"Input your name: \")\n",
    "if (surname_name.lower()==surname_name and name.lower()==name) or (surname_name.upper()==surname_name and name.upper()==name):\n",
    "    print('Case sensitive equal')\n",
    "else:\n",
    "    print(\"Case sensitive not equal\")"
   ]
  },
  {
   "cell_type": "markdown",
   "id": "2a88719e-0bb2-48ea-88c5-089eda1c0355",
   "metadata": {},
   "source": [
    "9. Create a program that compares two strings ignoring case and prints whether they are the same or different."
   ]
  },
  {
   "cell_type": "code",
   "execution_count": 109,
   "id": "9fe2e76e-7d13-4f00-b0f1-49050539be95",
   "metadata": {},
   "outputs": [
    {
     "name": "stdin",
     "output_type": "stream",
     "text": [
      "Input your surname name:  DAFE\n",
      "Input your name:  dafe\n"
     ]
    },
    {
     "name": "stdout",
     "output_type": "stream",
     "text": [
      "Both names are the same\n"
     ]
    }
   ],
   "source": [
    "surname_name=input(\"Input your surname name: \").lower()\n",
    "name=input(\"Input your name: \").lower()\n",
    "if surname_name==name:\n",
    "    print(\"Both names are the same\")\n",
    "else:\n",
    "    print(\"Both names are different\")"
   ]
  },
  {
   "cell_type": "markdown",
   "id": "947e946a-1756-4d0d-9e34-a4bfe3ab3139",
   "metadata": {},
   "source": [
    "10. Write a program that checks if a password meets basic criteria: at least 8 characters long and not equal to \"password\" or \"123456\"."
   ]
  },
  {
   "cell_type": "code",
   "execution_count": 120,
   "id": "4681cfa7-4c5f-4dea-b175-e743a09c984a",
   "metadata": {},
   "outputs": [
    {
     "name": "stdin",
     "output_type": "stream",
     "text": [
      "Password:  aswett!@#\n"
     ]
    },
    {
     "name": "stdout",
     "output_type": "stream",
     "text": [
      "NEXT\n"
     ]
    }
   ],
   "source": [
    "password=input(\"Password: \")\n",
    "if len(password)>=8 and password.lower()!=\"password\" and password!=\"123456\":\n",
    "    print(\"NEXT\")\n",
    "else:\n",
    "    print(\"Password must be at least 8 characters long and you can't use 'password' or '123456'\")"
   ]
  },
  {
   "cell_type": "markdown",
   "id": "394cf4c0-de05-46e8-939e-0aa2cad145a5",
   "metadata": {},
   "source": [
    "11. Create a program that categorizes a word as \"short\" (1-4 letters), \"medium\" (5-8 letters), or \"long\" (9+ letters)."
   ]
  },
  {
   "cell_type": "code",
   "execution_count": 128,
   "id": "31bb7211-eacb-45c6-ac2a-0b6ccbbff075",
   "metadata": {},
   "outputs": [
    {
     "name": "stdin",
     "output_type": "stream",
     "text": [
      "Password:  poiuy\n"
     ]
    },
    {
     "name": "stdout",
     "output_type": "stream",
     "text": [
      "Password is Medium\n"
     ]
    }
   ],
   "source": [
    "password=input(\"Password: \")\n",
    "if len(password)>=9:\n",
    "    print(\"Password is Long\")\n",
    "elif len(password)>=5:\n",
    "    print(\"Password is Medium\")\n",
    "else:\n",
    "    print(\"Password is short\")"
   ]
  },
  {
   "cell_type": "markdown",
   "id": "7032f712-a038-4f84-94ac-e9d10631d484",
   "metadata": {},
   "source": [
    "12. Write a program that checks if a string contains only digits, only letters, or a mix of both."
   ]
  },
  {
   "cell_type": "code",
   "execution_count": 264,
   "id": "72e4cc63-4b4b-4186-b7c7-91db9f402bfe",
   "metadata": {},
   "outputs": [
    {
     "name": "stdin",
     "output_type": "stream",
     "text": [
      "Password:  hi\n"
     ]
    },
    {
     "name": "stdout",
     "output_type": "stream",
     "text": [
      "Password contains only letters\n"
     ]
    }
   ],
   "source": [
    "password=input(\"Password: \")\n",
    "if password.isdigit():\n",
    "    print(\"Password contains only digits\")\n",
    "elif password.isalpha():\n",
    "    print(\"Password contains only letters\")\n",
    "elif password.isalnum():\n",
    "    print(\"Password is a mix of both\")\n",
    "else:\n",
    "    print(\"Password contains INVALID Characters use only Letters & Numbers\")\n",
    "    \n",
    "\n",
    "    "
   ]
  },
  {
   "cell_type": "markdown",
   "id": "fbc4c4bf-b23f-4cc5-87cb-48326a855900",
   "metadata": {},
   "source": [
    "13. Create a program that determines if a string is a single word (no spaces) or multiple words."
   ]
  },
  {
   "cell_type": "code",
   "execution_count": 208,
   "id": "cededc47-a050-4223-a1ab-cee27485a3a8",
   "metadata": {},
   "outputs": [
    {
     "name": "stdin",
     "output_type": "stream",
     "text": [
      "Password:  this is the guy i like so much\n"
     ]
    },
    {
     "name": "stdout",
     "output_type": "stream",
     "text": [
      "Password is multiple words\n"
     ]
    }
   ],
   "source": [
    "password=input(\"Password: \")\n",
    "if \" \" not in password:\n",
    "    print(\"Password is a single word\")\n",
    "else:\n",
    "    print(\"Password is multiple words\")\n",
    "    "
   ]
  },
  {
   "cell_type": "markdown",
   "id": "1e25b055-30dc-49f9-bea2-d1144f71fe28",
   "metadata": {},
   "source": [
    "14. Write a program that checks if a name starts with a vowel or consonant."
   ]
  },
  {
   "cell_type": "code",
   "execution_count": 222,
   "id": "d5b310b2-0493-411d-8ab1-0579d5d855f9",
   "metadata": {},
   "outputs": [
    {
     "name": "stdin",
     "output_type": "stream",
     "text": [
      "Input a name:  Consonants\n"
     ]
    },
    {
     "name": "stdout",
     "output_type": "stream",
     "text": [
      "consonants starts with a consonant\n"
     ]
    }
   ],
   "source": [
    "name=input(\"Input a name: \").lower()\n",
    "if name[0] in \"aeiou\":\n",
    "    print(f\"{name} starts with a vowel\")\n",
    "elif name[0] in \"bcdfghjklmnpqrstvwxyz\":\n",
    "    print(f\"{name} starts with a consonant\")\n",
    "else:\n",
    "    print(f\"{name} does not starts with a letter\")"
   ]
  },
  {
   "cell_type": "markdown",
   "id": "b81fb597-5a2e-4d1d-ae75-b153435540c2",
   "metadata": {},
   "source": [
    "15. Write a program that checks if a sentence starts with a capital letter and ends with proper punctuation (., !, or ?)."
   ]
  },
  {
   "cell_type": "code",
   "execution_count": 244,
   "id": "c02bc6ee-e9b2-4c90-9fcb-ebf46e7c97eb",
   "metadata": {},
   "outputs": [
    {
     "name": "stdin",
     "output_type": "stream",
     "text": [
      "Write a sentence:  This is a test.\n"
     ]
    },
    {
     "name": "stdout",
     "output_type": "stream",
     "text": [
      "The sentence starts with a capital letter and ends with proper punctuation\n"
     ]
    }
   ],
   "source": [
    "sentence=input(\"Write a sentence: \")\n",
    "if sentence[0].upper() ==sentence[0] and sentence[-1] not in \".!?\":\n",
    "    print(\"The sentence starts with a capital letter but doesn't end with proper punctuation\")\n",
    "elif sentence[0].upper() !=sentence[0] and sentence[-1] in \".!?\":\n",
    "    print(\"The sentence doesn't starts with a capital letter but ends with proper punctuation\")\n",
    "elif sentence[0].upper() ==sentence[0] and sentence[-1] in \".!?\":\n",
    "    print(\"The sentence starts with a capital letter and ends with proper punctuation\")\n",
    "else: \n",
    "    print(\"The sentence doesn't starts with a capital letter and doesn't end with proper punctuation\")"
   ]
  },
  {
   "cell_type": "markdown",
   "id": "9b88d647-b009-4a0e-9464-23f50d6cb36d",
   "metadata": {},
   "source": [
    "16. Create a program that determines if a word is a palindrome (reads the same forwards and backwards)."
   ]
  },
  {
   "cell_type": "code",
   "execution_count": 262,
   "id": "2ae1b7fd-2a1b-4224-b800-30b72afbee18",
   "metadata": {},
   "outputs": [
    {
     "name": "stdin",
     "output_type": "stream",
     "text": [
      "Write a word:  Madam\n"
     ]
    },
    {
     "name": "stdout",
     "output_type": "stream",
     "text": [
      "The reversal word is: madam\n",
      "madam is a palindrome\n"
     ]
    }
   ],
   "source": [
    "word=input(\"Write a word: \").lower()\n",
    "if word[ : :-1]== word:\n",
    "    print(f\"The reversal word is: {word[ : :-1]}\\n{word} is a palindrome\")\n",
    "else:\n",
    "    print(f\"The reversal word is: {word[ : :-1]}\\n{word} is a not palindrome\")"
   ]
  },
  {
   "cell_type": "markdown",
   "id": "df085c97-50cd-4461-831a-803309ebba44",
   "metadata": {},
   "source": [
    "17. Write a program that checks if a phone number is in the format \"XXX-XXX-XXXX\" where X is a digit."
   ]
  },
  {
   "cell_type": "code",
   "execution_count": 292,
   "id": "9654e061-043b-4252-90d0-6ef114efebfa",
   "metadata": {},
   "outputs": [
    {
     "name": "stdin",
     "output_type": "stream",
     "text": [
      "Input Phone number in 'XXX-XXX-XXXX' format:  444-555-6666\n"
     ]
    },
    {
     "name": "stdout",
     "output_type": "stream",
     "text": [
      "Phone number is in correct format\n"
     ]
    }
   ],
   "source": [
    "phone_number=input(\"Input Phone number in 'XXX-XXX-XXXX' format: \")\n",
    "number_validation=phone_number[0:3].isdigit() and phone_number[4:7].isdigit and phone_number[8:12].isdigit and \"-\"==phone_number[3] and \"-\"==phone_number[7]\n",
    "if len(phone_number)==12 and number_validation:\n",
    "    print(\"Phone number is in correct format\")\n",
    "else:\n",
    "    print(\"Phone number is not in correct format\")\n",
    "\n",
    "\n"
   ]
  },
  {
   "cell_type": "code",
   "execution_count": null,
   "id": "97cec970-4722-4012-84fe-3565233a0132",
   "metadata": {},
   "outputs": [],
   "source": []
  }
 ],
 "metadata": {
  "kernelspec": {
   "display_name": "Python 3 (ipykernel)",
   "language": "python",
   "name": "python3"
  },
  "language_info": {
   "codemirror_mode": {
    "name": "ipython",
    "version": 3
   },
   "file_extension": ".py",
   "mimetype": "text/x-python",
   "name": "python",
   "nbconvert_exporter": "python",
   "pygments_lexer": "ipython3",
   "version": "3.12.7"
  }
 },
 "nbformat": 4,
 "nbformat_minor": 5
}
