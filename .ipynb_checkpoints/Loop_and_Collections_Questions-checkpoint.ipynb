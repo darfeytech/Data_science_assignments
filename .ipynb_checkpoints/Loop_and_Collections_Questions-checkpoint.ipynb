{
 "cells": [
  {
   "cell_type": "markdown",
   "id": "17c13676-26b0-4386-a16d-72567e25776d",
   "metadata": {},
   "source": [
    "1. Write a program that counts down from 10 to 1, then prints \"Blast off!\""
   ]
  },
  {
   "cell_type": "code",
   "execution_count": 7,
   "id": "e5d72a48-b0b5-46f7-be58-07afa450ab95",
   "metadata": {},
   "outputs": [
    {
     "name": "stdout",
     "output_type": "stream",
     "text": [
      "10\n",
      "9\n",
      "8\n",
      "7\n",
      "6\n",
      "5\n",
      "4\n",
      "3\n",
      "2\n",
      "1\n",
      "Blast off!\n"
     ]
    }
   ],
   "source": [
    "count=[1,2,3,4,5,6,7,8,9,10]\n",
    "count.reverse()\n",
    "for i in count:\n",
    "    print(i)\n",
    "print(\"Blast off!\")"
   ]
  },
  {
   "cell_type": "markdown",
   "id": "7953f952-8718-4a30-b3e4-41f97a7c2cd6",
   "metadata": {},
   "source": [
    "2. Write a program that finds all numbers between 1 and 1000 that are divisible by 7."
   ]
  },
  {
   "cell_type": "code",
   "execution_count": 34,
   "id": "321b2139-f056-4329-a45c-11ce98b580fd",
   "metadata": {},
   "outputs": [
    {
     "name": "stdout",
     "output_type": "stream",
     "text": [
      "7\n",
      "14\n",
      "21\n",
      "28\n",
      "35\n",
      "42\n",
      "49\n",
      "56\n",
      "63\n",
      "70\n",
      "77\n",
      "84\n",
      "91\n",
      "98\n",
      "105\n",
      "112\n",
      "119\n",
      "126\n",
      "133\n",
      "140\n",
      "147\n",
      "154\n",
      "161\n",
      "168\n",
      "175\n",
      "182\n",
      "189\n",
      "196\n",
      "203\n",
      "210\n",
      "217\n",
      "224\n",
      "231\n",
      "238\n",
      "245\n",
      "252\n",
      "259\n",
      "266\n",
      "273\n",
      "280\n",
      "287\n",
      "294\n",
      "301\n",
      "308\n",
      "315\n",
      "322\n",
      "329\n",
      "336\n",
      "343\n",
      "350\n",
      "357\n",
      "364\n",
      "371\n",
      "378\n",
      "385\n",
      "392\n",
      "399\n",
      "406\n",
      "413\n",
      "420\n",
      "427\n",
      "434\n",
      "441\n",
      "448\n",
      "455\n",
      "462\n",
      "469\n",
      "476\n",
      "483\n",
      "490\n",
      "497\n",
      "504\n",
      "511\n",
      "518\n",
      "525\n",
      "532\n",
      "539\n",
      "546\n",
      "553\n",
      "560\n",
      "567\n",
      "574\n",
      "581\n",
      "588\n",
      "595\n",
      "602\n",
      "609\n",
      "616\n",
      "623\n",
      "630\n",
      "637\n",
      "644\n",
      "651\n",
      "658\n",
      "665\n",
      "672\n",
      "679\n",
      "686\n",
      "693\n",
      "700\n",
      "707\n",
      "714\n",
      "721\n",
      "728\n",
      "735\n",
      "742\n",
      "749\n",
      "756\n",
      "763\n",
      "770\n",
      "777\n",
      "784\n",
      "791\n",
      "798\n",
      "805\n",
      "812\n",
      "819\n",
      "826\n",
      "833\n",
      "840\n",
      "847\n",
      "854\n",
      "861\n",
      "868\n",
      "875\n",
      "882\n",
      "889\n",
      "896\n",
      "903\n",
      "910\n",
      "917\n",
      "924\n",
      "931\n",
      "938\n",
      "945\n",
      "952\n",
      "959\n",
      "966\n",
      "973\n",
      "980\n",
      "987\n",
      "994\n"
     ]
    }
   ],
   "source": [
    "for i in range(1001):\n",
    "    if i!=0 and i%7==0:\n",
    "        print(i)\n",
    "        "
   ]
  },
  {
   "cell_type": "markdown",
   "id": "2acb335e-5267-439e-8822-1c5c714e742a",
   "metadata": {},
   "source": [
    "3. Given a list of numbers, find and print the largest and smallest values."
   ]
  },
  {
   "cell_type": "code",
   "execution_count": 14,
   "id": "63cbdea0-4d38-4d23-aaf6-2300e69f4aea",
   "metadata": {},
   "outputs": [
    {
     "name": "stdout",
     "output_type": "stream",
     "text": [
      "The smallest value is = 2 and The largest value is = 75\n"
     ]
    }
   ],
   "source": [
    "numbers=[2,5,2,29,55,20,75]\n",
    "numbers.sort()\n",
    "print(f\"The smallest value is = {numbers.pop(0)} and The largest value is = {numbers.pop()}\")"
   ]
  },
  {
   "cell_type": "markdown",
   "id": "5aa7cf10-fb72-44bd-99c0-ce27b1bca35d",
   "metadata": {},
   "source": [
    "4. Write a program that removes all duplicate values from a list and prints the unique elements."
   ]
  },
  {
   "cell_type": "code",
   "execution_count": 5,
   "id": "7690f475-b533-46fe-9d26-02da3e3bd453",
   "metadata": {},
   "outputs": [
    {
     "name": "stdout",
     "output_type": "stream",
     "text": [
      "{2, 3, 5, 9, 11}\n"
     ]
    }
   ],
   "source": [
    "numbers=[2,8,2,4,9,2,1,9,3,0,3,5,5,7,11,15,11]\n",
    "remove=[]\n",
    "for i in numbers:\n",
    "    if numbers.count(i)==1:\n",
    "        remove.append(i)\n",
    "for no in remove:\n",
    "        numbers.remove(no)\n",
    "print(set(numbers)) # my definition of unique here are numbers that occurs more than once"
   ]
  },
  {
   "cell_type": "markdown",
   "id": "8c1d7098-fe08-48f2-94c5-1a90b8165351",
   "metadata": {},
   "source": [
    "5. Write a program that finds the most common element in a list and how many times it appears."
   ]
  },
  {
   "cell_type": "code",
   "execution_count": 8,
   "id": "c685e379-00a3-4f73-bb7a-e9a68e0963d7",
   "metadata": {},
   "outputs": [
    {
     "name": "stdout",
     "output_type": "stream",
     "text": [
      "1\n",
      "The most common number is 2, appearing 3 times.\n"
     ]
    }
   ],
   "source": [
    "numbers=[2,8,2,4,25,4,3,5,5,2,1]\n",
    "count=1\n",
    "while True:\n",
    "    if len(set(numbers))==1:\n",
    "        print(len(set(numbers)))\n",
    "        break\n",
    "    remove=[]\n",
    "    for i in numbers:\n",
    "        if numbers.count(i)==count:\n",
    "            remove.append(i)\n",
    "    for no in remove:\n",
    "        numbers.remove(no)\n",
    "    count+=1\n",
    "print(f\"The most common number is {numbers[0]}, appearing {numbers.count(numbers[0])} times.\")\n",
    "\n"
   ]
  },
  {
   "cell_type": "markdown",
   "id": "a580fe01-e3b1-4038-9624-809a6552179b",
   "metadata": {},
   "source": [
    "6. Create a program that counts the number of vowels and consonants in a sentence"
   ]
  },
  {
   "cell_type": "code",
   "execution_count": 17,
   "id": "afa3de4c-01ff-4ba7-8048-7e219824802c",
   "metadata": {},
   "outputs": [
    {
     "name": "stdin",
     "output_type": "stream",
     "text": [
      "Type a sentence:  This is Nicee\n"
     ]
    },
    {
     "name": "stdout",
     "output_type": "stream",
     "text": [
      "The no of vowels = 5\n",
      "The no of consonats = 6\n"
     ]
    }
   ],
   "source": [
    "sentence=input(\"Type a sentence: \").lower()\n",
    "vowels=0\n",
    "consonants=0\n",
    "for i in sentence:\n",
    "    if i in \"aeiou\":\n",
    "        vowels=vowels+1\n",
    "    elif i in \"bcdfghjklmnpqrstvwxyz\":\n",
    "        consonants=consonants+1\n",
    "print(f\"The no of vowels = {vowels}\\nThe no of consonats = {consonants}\")\n"
   ]
  },
  {
   "cell_type": "markdown",
   "id": "74a40575-e49c-441f-a26b-b3eb410b0409",
   "metadata": {},
   "source": [
    "7. Write a program that finds the longest word in a sentence entered by the user."
   ]
  },
  {
   "cell_type": "code",
   "execution_count": 33,
   "id": "a1d8b659-9505-4adc-ad6c-c73ef75ba119",
   "metadata": {},
   "outputs": [
    {
     "name": "stdin",
     "output_type": "stream",
     "text": [
      "Type a sentence:  I will try harder\n"
     ]
    },
    {
     "name": "stdout",
     "output_type": "stream",
     "text": [
      "The longest word in this sentense is 'harder'\n"
     ]
    }
   ],
   "source": [
    "sentence=(input(\"Type a sentence: \").lower()).split()\n",
    "longest=0\n",
    "for i in sentence:\n",
    "    if len(i)>=longest:\n",
    "        longest=len(i)\n",
    "print(f\"The longest word in this sentense is '{i}'\")\n",
    "\n",
    "\n"
   ]
  },
  {
   "cell_type": "markdown",
   "id": "c8c3b648-a20b-4316-a84c-a40e5edfd64f",
   "metadata": {},
   "source": [
    "8. Create a program that removes all spaces from a string and prints it as one continuous word."
   ]
  },
  {
   "cell_type": "code",
   "execution_count": 42,
   "id": "6af02c1b-1d31-4644-b92c-9bbdb470e111",
   "metadata": {},
   "outputs": [
    {
     "name": "stdin",
     "output_type": "stream",
     "text": [
      "Type a sentence:  I will try very hard\n"
     ]
    },
    {
     "name": "stdout",
     "output_type": "stream",
     "text": [
      "Continous word is  iwilltryveryhard\n"
     ]
    }
   ],
   "source": [
    "sentence=input(\"Type a sentence: \").lower()\n",
    "word=\" \"\n",
    "for i in sentence:\n",
    "    if i==\" \":\n",
    "        continue\n",
    "    word=word+i\n",
    "print(f\"Continous word is {word}\")"
   ]
  },
  {
   "cell_type": "markdown",
   "id": "2cd89db6-5f6f-4ce8-9058-a8f3be911165",
   "metadata": {},
   "source": [
    "9. Create a program that sums user-entered numbers until the total exceeds 100, then stops and reports how many numbers were entered."
   ]
  },
  {
   "cell_type": "code",
   "execution_count": 49,
   "id": "3d9e02c0-91c4-4a3a-84e8-ca0476ed51af",
   "metadata": {},
   "outputs": [
    {
     "name": "stdin",
     "output_type": "stream",
     "text": [
      "Enter a number:  10\n",
      "Enter a number:  25\n",
      "Enter a number:  35\n",
      "Enter a number:  15\n",
      "Enter a number:  10\n",
      "Enter a number:  28\n"
     ]
    },
    {
     "name": "stdout",
     "output_type": "stream",
     "text": [
      "The total numbers entered = 6\n"
     ]
    }
   ],
   "source": [
    "number_sum=0\n",
    "number=[]\n",
    "while True:\n",
    "    if number_sum>100:\n",
    "        break\n",
    "    user_input=float(input(\"Enter a number: \"))\n",
    "    number.append(user_input)\n",
    "    number_sum=number_sum+user_input\n",
    "print(f\"The total numbers entered = {len(number)}\")\n",
    "    "
   ]
  },
  {
   "cell_type": "markdown",
   "id": "8d063ef8-562f-4f8e-b715-f5afee6c32d9",
   "metadata": {},
   "source": [
    "10. Write a program using a while loop that keeps asking for a password until the user enters \"secret123\".\n"
   ]
  },
  {
   "cell_type": "code",
   "execution_count": 52,
   "id": "8ec5b127-03a4-4d16-a0e1-ccc8740bee09",
   "metadata": {},
   "outputs": [
    {
     "name": "stdin",
     "output_type": "stream",
     "text": [
      "Enter Password:  testing\n",
      "Enter Password:  testing123\n",
      "Enter Password:  chech\n",
      "Enter Password:  secret123\n"
     ]
    }
   ],
   "source": [
    "while True:\n",
    "    password=input(\"Enter Password: \")\n",
    "    if password==\"secret123\":\n",
    "        break"
   ]
  },
  {
   "cell_type": "markdown",
   "id": "ac3bcd38-4fc3-4f55-aa12-b20f9892a986",
   "metadata": {},
   "source": [
    "11. Write a program that prints all even numbers between 1 and 50."
   ]
  },
  {
   "cell_type": "code",
   "execution_count": 53,
   "id": "90c10101-27a8-49f6-915f-29ccba0893d0",
   "metadata": {},
   "outputs": [
    {
     "name": "stdout",
     "output_type": "stream",
     "text": [
      "2\n",
      "4\n",
      "6\n",
      "8\n",
      "10\n",
      "12\n",
      "14\n",
      "16\n",
      "18\n",
      "20\n",
      "22\n",
      "24\n",
      "26\n",
      "28\n",
      "30\n",
      "32\n",
      "34\n",
      "36\n",
      "38\n",
      "40\n",
      "42\n",
      "44\n",
      "46\n",
      "48\n",
      "50\n"
     ]
    }
   ],
   "source": [
    "for i in range(51):\n",
    "    if i!=0 and i%2==0:\n",
    "        print(i)"
   ]
  },
  {
   "cell_type": "markdown",
   "id": "9eec7e3d-8e6f-4304-aeed-33c5980b6703",
   "metadata": {},
   "source": [
    "12. Create a program that prints the Fibonacci sequence up to a specific count provided by the user."
   ]
  },
  {
   "cell_type": "code",
   "execution_count": 62,
   "id": "1fe113ef-d7a4-4bfc-8da0-9f6d264cbfbc",
   "metadata": {},
   "outputs": [
    {
     "name": "stdin",
     "output_type": "stream",
     "text": [
      "Enter a count for the Fibonacci sequence  20\n"
     ]
    },
    {
     "name": "stdout",
     "output_type": "stream",
     "text": [
      "[0, 1, 1, 2, 3, 5, 8, 13, 21, 34, 55, 89, 144, 233, 377, 610, 987, 1597, 2584, 4181]\n"
     ]
    }
   ],
   "source": [
    "number=int(input(\"Enter a count for the Fibonacci sequence \"))\n",
    "sequence=[0,1]\n",
    "f1=0\n",
    "f2=1\n",
    "total=0\n",
    "for i in range(number):\n",
    "    if i >= 2:\n",
    "        total=f2+f1\n",
    "        sequence.append(total)\n",
    "        f1=f2\n",
    "        f2=total\n",
    "print(sequence)\n",
    "    \n",
    "    \n",
    "    \n",
    "    "
   ]
  },
  {
   "cell_type": "markdown",
   "id": "f538ad71-b2a5-4b9d-ad8f-4b621d1d7ef5",
   "metadata": {},
   "source": [
    "13. Write a program that prints the multiplication table of a number entered by the user up to 10."
   ]
  },
  {
   "cell_type": "markdown",
   "id": "8edba2ae-ae5c-4011-ba50-714b8284bd65",
   "metadata": {},
   "source": [
    "user_input=float(input(\"Input a number to generate the multiplication table: \"))\n",
    "for i in range(11):\n",
    "    if i>=1:\n",
    "        total=i*user_input\n",
    "        print(f\"{i}X{user_input} = {total}\")"
   ]
  },
  {
   "cell_type": "markdown",
   "id": "e2966062-fe33-4705-a24f-58264266c73f",
   "metadata": {},
   "source": [
    "14. Write a program that asks the user to enter numbers repeatedly and stops when the user enters a negative number, then prints the list of entered numbers."
   ]
  },
  {
   "cell_type": "code",
   "execution_count": 65,
   "id": "7b3b48c0-521b-443f-9440-434af7aa9f46",
   "metadata": {},
   "outputs": [
    {
     "name": "stdin",
     "output_type": "stream",
     "text": [
      "Enter number:  10\n",
      "Enter number:  0.5\n",
      "Enter number:  50\n",
      "Enter number:  100\n",
      "Enter number:  25\n",
      "Enter number:  -5\n"
     ]
    },
    {
     "name": "stdout",
     "output_type": "stream",
     "text": [
      "The list of entered numbers = [10.0, 0.5, 50.0, 100.0, 25.0]\n"
     ]
    }
   ],
   "source": [
    "number=[]\n",
    "while True:\n",
    "    user_input=float(input(\"Enter number: \"))\n",
    "    if user_input<0:\n",
    "        break\n",
    "    number.append(user_input)\n",
    "print(f\"The list of entered numbers = {number}\")\n",
    "    "
   ]
  },
  {
   "cell_type": "markdown",
   "id": "a306ae7b-c3b8-4b82-a6e1-b967295632e2",
   "metadata": {},
   "source": [
    "15. Write a program that keeps asking for a number until the user enters 0, then outputs the sum of all entered numbers."
   ]
  },
  {
   "cell_type": "code",
   "execution_count": 66,
   "id": "79c61d8d-f9b1-42f1-9ed2-337f5e80b3f1",
   "metadata": {},
   "outputs": [
    {
     "name": "stdin",
     "output_type": "stream",
     "text": [
      "Enter a number:  10\n",
      "Enter a number:  25\n",
      "Enter a number:  10\n",
      "Enter a number:  45\n",
      "Enter a number:  0\n"
     ]
    },
    {
     "name": "stdout",
     "output_type": "stream",
     "text": [
      "Sum of numbers = 90.0\n"
     ]
    }
   ],
   "source": [
    "total=0\n",
    "while True:\n",
    "    number=float(input(\"Enter a number: \"))\n",
    "    if number==0:\n",
    "        break\n",
    "    total=total+number\n",
    "print(f\"Sum of numbers = {total}\")\n",
    "    "
   ]
  },
  {
   "cell_type": "markdown",
   "id": "afcbbff0-4ae4-4189-a5d1-8a8041d5e394",
   "metadata": {},
   "source": [
    "16. Create a program that finds the smallest power of 2 greater than a number entered by the user."
   ]
  },
  {
   "cell_type": "code",
   "execution_count": 76,
   "id": "8e465097-14bc-4932-9e71-fe6d983e271f",
   "metadata": {},
   "outputs": [
    {
     "name": "stdin",
     "output_type": "stream",
     "text": [
      "Enter a number:  32\n"
     ]
    },
    {
     "name": "stdout",
     "output_type": "stream",
     "text": [
      "The smallest power of 2 is = 6\n"
     ]
    }
   ],
   "source": [
    "power=0\n",
    "user_input=float(input(\"Enter a number: \"))\n",
    "while True:\n",
    "    if 2**power>user_input:\n",
    "        break\n",
    "    power=power+1\n",
    "print(f\"The smallest power of 2 is = {power}\")\n",
    "\n",
    "    "
   ]
  },
  {
   "cell_type": "code",
   "execution_count": null,
   "id": "771aa0e0-6e3c-4fb2-a87e-7e664335bd25",
   "metadata": {},
   "outputs": [],
   "source": []
  }
 ],
 "metadata": {
  "kernelspec": {
   "display_name": "Python 3 (ipykernel)",
   "language": "python",
   "name": "python3"
  },
  "language_info": {
   "codemirror_mode": {
    "name": "ipython",
    "version": 3
   },
   "file_extension": ".py",
   "mimetype": "text/x-python",
   "name": "python",
   "nbconvert_exporter": "python",
   "pygments_lexer": "ipython3",
   "version": "3.12.7"
  }
 },
 "nbformat": 4,
 "nbformat_minor": 5
}
