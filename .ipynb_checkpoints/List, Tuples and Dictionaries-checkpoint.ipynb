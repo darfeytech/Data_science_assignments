{
 "cells": [
  {
   "cell_type": "markdown",
   "id": "0fcf2e9d-4777-4fb5-b6d6-b902b70e407b",
   "metadata": {},
   "source": [
    "## List (list)"
   ]
  },
  {
   "cell_type": "markdown",
   "id": "7daa767c-2064-45c1-98bb-5d5ff7542cd3",
   "metadata": {},
   "source": [
    "List is an ordered, mutable collection that can contain elements of any type. It's defined using square brackets []. You can change the contents after creation (e.g., add, remove, or update elements), it supports indexing and slicing and also allows duplicates.\n",
    "\n",
    "Truthy and Falsy Values:\n",
    "An empty list [ ] is falsy , A non-empty list [1,2] is truthy"
   ]
  },
  {
   "cell_type": "markdown",
   "id": "5682815e-813b-4faa-ae2a-abb329526f42",
   "metadata": {},
   "source": [
    "## Tuples(tuple)"
   ]
  },
  {
   "cell_type": "markdown",
   "id": "27fdc230-a7d5-487c-a02f-b8129cc78c8d",
   "metadata": {},
   "source": [
    "Tuple is an ordered, immutable collection that can also hold elements of any type. It's defined using parentheses (). Once created, you cannot modify its content. Like lists, it supports indexing and slicing and is often used when data should not be changed.\n",
    "\n",
    "Truthy and Falsy Values:\n",
    "An empty tuple ( ) is falsy, A non-empty tuple (1,) is truthy\n",
    "\n"
   ]
  },
  {
   "cell_type": "markdown",
   "id": "174750d6-67b4-456c-ab53-81f6e608c2af",
   "metadata": {},
   "source": [
    "## Dictionary (dict)"
   ]
  },
  {
   "cell_type": "markdown",
   "id": "b19abdad-7369-42f2-b8f0-077c678bcd9b",
   "metadata": {},
   "source": [
    "A dictionary is an unordered, mutable collection of key-value pairs. It's defined using braces {}. One can add, remove, or update key-value pairs. No duplicate keys i.e each key must be unique. Values can be any data type.\n",
    "\n",
    "Truthy and Falsy Values:\n",
    "An empty dictionary { } is falsy, A non-empty dictionary {\"key\": \"value\"} is truthy"
   ]
  },
  {
   "cell_type": "code",
   "execution_count": null,
   "id": "f765dd77-6db5-48e1-84a8-7e4f84c0a354",
   "metadata": {},
   "outputs": [],
   "source": []
  }
 ],
 "metadata": {
  "kernelspec": {
   "display_name": "Python 3 (ipykernel)",
   "language": "python",
   "name": "python3"
  },
  "language_info": {
   "codemirror_mode": {
    "name": "ipython",
    "version": 3
   },
   "file_extension": ".py",
   "mimetype": "text/x-python",
   "name": "python",
   "nbconvert_exporter": "python",
   "pygments_lexer": "ipython3",
   "version": "3.12.7"
  }
 },
 "nbformat": 4,
 "nbformat_minor": 5
}
